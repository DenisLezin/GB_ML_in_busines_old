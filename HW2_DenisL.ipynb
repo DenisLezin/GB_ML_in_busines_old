{
 "cells": [
  {
   "cell_type": "markdown",
   "metadata": {},
   "source": [
    "### Переходим к практике"
   ]
  },
  {
   "cell_type": "code",
   "execution_count": 1,
   "metadata": {},
   "outputs": [],
   "source": [
    "import pandas as pd\n",
    "import numpy as np\n",
    "import pickle\n",
    "from os import path\n",
    "import itertools\n",
    "\n",
    "from gensim.models import LdaModel\n",
    "from gensim.corpora.dictionary import Dictionary\n",
    "from gensim.test.utils import datapath\n",
    "\n",
    "from sklearn.base import BaseEstimator, TransformerMixin\n",
    "from sklearn.pipeline import Pipeline, FeatureUnion\n",
    "from sklearn.feature_extraction.text import TfidfVectorizer\n",
    "\n",
    "from functools import lru_cache, reduce\n",
    "\n",
    "from tqdm.notebook import tqdm_notebook, tqdm\n",
    "\n",
    "#предобработка текстов\n",
    "import re\n",
    "from nltk.corpus import stopwords\n",
    "from razdel import tokenize # https://github.com/natasha/razdel\n",
    "\n",
    "import pymorphy2  # pip install pymorphy2\n",
    "\n",
    "from sklearn.linear_model import LogisticRegression\n",
    "from sklearn.model_selection import train_test_split\n",
    "from sklearn.metrics import f1_score, roc_auc_score, precision_score, \\\n",
    "                            classification_report, precision_recall_curve, confusion_matrix\n",
    "\n",
    "import matplotlib.pyplot as plt\n"
   ]
  },
  {
   "cell_type": "code",
   "execution_count": 2,
   "metadata": {},
   "outputs": [],
   "source": [
    "%matplotlib inline"
   ]
  },
  {
   "cell_type": "code",
   "execution_count": 3,
   "metadata": {},
   "outputs": [
    {
     "name": "stderr",
     "output_type": "stream",
     "text": [
      "C:\\ProgramData\\Anaconda3\\lib\\site-packages\\tqdm\\std.py:668: FutureWarning: The Panel class is removed from pandas. Accessing it from the top-level namespace will also be removed in the next version\n",
      "  from pandas import Panel\n"
     ]
    }
   ],
   "source": [
    "tqdm_notebook.pandas()"
   ]
  },
  {
   "cell_type": "code",
   "execution_count": 4,
   "metadata": {},
   "outputs": [],
   "source": [
    "# Save/Load objects to pickle\n",
    "def pickle_save(obj, file_name):\n",
    "    with open(file_name, 'wb') as f:\n",
    "        pickle.dump(obj, f)\n",
    "        \n",
    "        \n",
    "def pickle_load(file_name):\n",
    "    with open(file_name, 'rb') as f:\n",
    "        data_new = pickle.load(f)\n",
    "    return data_new"
   ]
  },
  {
   "cell_type": "markdown",
   "metadata": {},
   "source": [
    "Files"
   ]
  },
  {
   "cell_type": "code",
   "execution_count": 5,
   "metadata": {},
   "outputs": [],
   "source": [
    "NEWS_FILE = \"articles.csv\"\n",
    "USERS_FILE = \"users_articles.csv\"\n",
    "TARGET_FILE = \"users_churn.csv\""
   ]
  },
  {
   "cell_type": "markdown",
   "metadata": {},
   "source": [
    "Наши новости"
   ]
  },
  {
   "cell_type": "code",
   "execution_count": 6,
   "metadata": {},
   "outputs": [
    {
     "name": "stdout",
     "output_type": "stream",
     "text": [
      "(27000, 2)\n"
     ]
    },
    {
     "data": {
      "text/html": [
       "<div>\n",
       "<style scoped>\n",
       "    .dataframe tbody tr th:only-of-type {\n",
       "        vertical-align: middle;\n",
       "    }\n",
       "\n",
       "    .dataframe tbody tr th {\n",
       "        vertical-align: top;\n",
       "    }\n",
       "\n",
       "    .dataframe thead th {\n",
       "        text-align: right;\n",
       "    }\n",
       "</style>\n",
       "<table border=\"1\" class=\"dataframe\">\n",
       "  <thead>\n",
       "    <tr style=\"text-align: right;\">\n",
       "      <th></th>\n",
       "      <th>doc_id</th>\n",
       "      <th>title</th>\n",
       "    </tr>\n",
       "  </thead>\n",
       "  <tbody>\n",
       "    <tr>\n",
       "      <th>0</th>\n",
       "      <td>6</td>\n",
       "      <td>Заместитель председателяnправительства РФnСерг...</td>\n",
       "    </tr>\n",
       "    <tr>\n",
       "      <th>1</th>\n",
       "      <td>4896</td>\n",
       "      <td>Матч 1/16 финала Кубка России по футболу был п...</td>\n",
       "    </tr>\n",
       "    <tr>\n",
       "      <th>2</th>\n",
       "      <td>4897</td>\n",
       "      <td>Форвард «Авангарда» Томаш Заборский прокоммент...</td>\n",
       "    </tr>\n",
       "  </tbody>\n",
       "</table>\n",
       "</div>"
      ],
      "text/plain": [
       "   doc_id                                              title\n",
       "0       6  Заместитель председателяnправительства РФnСерг...\n",
       "1    4896  Матч 1/16 финала Кубка России по футболу был п...\n",
       "2    4897  Форвард «Авангарда» Томаш Заборский прокоммент..."
      ]
     },
     "execution_count": 6,
     "metadata": {},
     "output_type": "execute_result"
    }
   ],
   "source": [
    "news = pd.read_csv(NEWS_FILE)\n",
    "print(news.shape)\n",
    "news.head(3)"
   ]
  },
  {
   "cell_type": "markdown",
   "metadata": {},
   "source": [
    "Загрузим пользователей и списки последних прочитанных новостей"
   ]
  },
  {
   "cell_type": "code",
   "execution_count": 7,
   "metadata": {},
   "outputs": [
    {
     "data": {
      "text/html": [
       "<div>\n",
       "<style scoped>\n",
       "    .dataframe tbody tr th:only-of-type {\n",
       "        vertical-align: middle;\n",
       "    }\n",
       "\n",
       "    .dataframe tbody tr th {\n",
       "        vertical-align: top;\n",
       "    }\n",
       "\n",
       "    .dataframe thead th {\n",
       "        text-align: right;\n",
       "    }\n",
       "</style>\n",
       "<table border=\"1\" class=\"dataframe\">\n",
       "  <thead>\n",
       "    <tr style=\"text-align: right;\">\n",
       "      <th></th>\n",
       "      <th>uid</th>\n",
       "      <th>articles</th>\n",
       "    </tr>\n",
       "  </thead>\n",
       "  <tbody>\n",
       "    <tr>\n",
       "      <th>0</th>\n",
       "      <td>u105138</td>\n",
       "      <td>[293672, 293328, 293001, 293622, 293126, 1852]</td>\n",
       "    </tr>\n",
       "    <tr>\n",
       "      <th>1</th>\n",
       "      <td>u108690</td>\n",
       "      <td>[3405, 1739, 2972, 1158, 1599, 322665]</td>\n",
       "    </tr>\n",
       "    <tr>\n",
       "      <th>2</th>\n",
       "      <td>u108339</td>\n",
       "      <td>[1845, 2009, 2356, 1424, 2939, 323389]</td>\n",
       "    </tr>\n",
       "  </tbody>\n",
       "</table>\n",
       "</div>"
      ],
      "text/plain": [
       "       uid                                        articles\n",
       "0  u105138  [293672, 293328, 293001, 293622, 293126, 1852]\n",
       "1  u108690          [3405, 1739, 2972, 1158, 1599, 322665]\n",
       "2  u108339          [1845, 2009, 2356, 1424, 2939, 323389]"
      ]
     },
     "execution_count": 7,
     "metadata": {},
     "output_type": "execute_result"
    }
   ],
   "source": [
    "users = pd.read_csv(USERS_FILE)\n",
    "users.head(3)"
   ]
  },
  {
   "cell_type": "code",
   "execution_count": 8,
   "metadata": {
    "scrolled": true
   },
   "outputs": [
    {
     "data": {
      "text/html": [
       "<div>\n",
       "<style scoped>\n",
       "    .dataframe tbody tr th:only-of-type {\n",
       "        vertical-align: middle;\n",
       "    }\n",
       "\n",
       "    .dataframe tbody tr th {\n",
       "        vertical-align: top;\n",
       "    }\n",
       "\n",
       "    .dataframe thead th {\n",
       "        text-align: right;\n",
       "    }\n",
       "</style>\n",
       "<table border=\"1\" class=\"dataframe\">\n",
       "  <thead>\n",
       "    <tr style=\"text-align: right;\">\n",
       "      <th></th>\n",
       "      <th>uid</th>\n",
       "      <th>churn</th>\n",
       "    </tr>\n",
       "  </thead>\n",
       "  <tbody>\n",
       "    <tr>\n",
       "      <th>0</th>\n",
       "      <td>u107120</td>\n",
       "      <td>0</td>\n",
       "    </tr>\n",
       "    <tr>\n",
       "      <th>1</th>\n",
       "      <td>u102277</td>\n",
       "      <td>0</td>\n",
       "    </tr>\n",
       "    <tr>\n",
       "      <th>2</th>\n",
       "      <td>u102444</td>\n",
       "      <td>0</td>\n",
       "    </tr>\n",
       "  </tbody>\n",
       "</table>\n",
       "</div>"
      ],
      "text/plain": [
       "       uid  churn\n",
       "0  u107120      0\n",
       "1  u102277      0\n",
       "2  u102444      0"
      ]
     },
     "execution_count": 8,
     "metadata": {},
     "output_type": "execute_result"
    }
   ],
   "source": [
    "target = pd.read_csv(TARGET_FILE)\n",
    "target.head(3)"
   ]
  },
  {
   "cell_type": "markdown",
   "metadata": {},
   "source": [
    "Итак, нам нужно получить векторные представления пользователей на основе прочитанным ими новостей и самих новостей"
   ]
  },
  {
   "cell_type": "markdown",
   "metadata": {},
   "source": [
    "### 1. Получаем векторные представления новостей"
   ]
  },
  {
   "cell_type": "code",
   "execution_count": 9,
   "metadata": {
    "scrolled": true
   },
   "outputs": [],
   "source": [
    "# Анализатор морфологии слова - приводит к единой форме слова-производные(нпример: бежать, бегут, бегали, ... -> бегать)\n",
    "# morph = pymorphy2.MorphAnalyzer()"
   ]
  },
  {
   "cell_type": "markdown",
   "metadata": {},
   "source": [
    "### Собираем stopwords"
   ]
  },
  {
   "cell_type": "code",
   "execution_count": 10,
   "metadata": {},
   "outputs": [],
   "source": [
    "MANUAL_STOPWORDS = ['nn', 'nnn', 'этим', 'поэтому', 'это']\n",
    "# stopword_ru = stopwords.words('russian')\n",
    "\n",
    "# with open('stopwords.txt') as f:\n",
    "#     additional_stopwords = [w.strip() for w in f.readlines() if w]\n",
    "# stopword_ru = stopword_ru + additional_stopwords + MANUAL_STOPWORDS\n",
    "# len(stopword_ru)"
   ]
  },
  {
   "cell_type": "code",
   "execution_count": 11,
   "metadata": {},
   "outputs": [],
   "source": [
    "def stopwords_(MANUAL_STOPWORDS):\n",
    "    stopword_ru = stopwords.words('russian')\n",
    "\n",
    "    with open('stopwords.txt') as f:\n",
    "        additional_stopwords = [w.strip() for w in f.readlines() if w]\n",
    "    \n",
    "    stopword_ru = stopword_ru + additional_stopwords + MANUAL_STOPWORDS\n",
    "    return stopword_ru"
   ]
  },
  {
   "cell_type": "markdown",
   "metadata": {},
   "source": [
    "### Классы для пайплайна векторизации текстов"
   ]
  },
  {
   "cell_type": "code",
   "execution_count": 12,
   "metadata": {},
   "outputs": [],
   "source": [
    "class DFFeatureUnion(TransformerMixin):\n",
    "    \"\"\"\n",
    "    FeatureUnion but for pandas DataFrames\n",
    "    source:\n",
    "        https://github.com/jem1031/pandas-pipelines-custom-transformers/blob/master/code/custom_transformers.py\n",
    "    \"\"\"\n",
    "\n",
    "    def __init__(self, transformer_list):\n",
    "        self.transformer_list = transformer_list\n",
    "\n",
    "    def fit(self, X, y=None):\n",
    "\n",
    "        for (name, t) in self.transformer_list:\n",
    "            t.fit(X, y)\n",
    "        return self\n",
    "\n",
    "    def transform(self, X):\n",
    "        # assumes X is a DataFrame\n",
    "        Xts = [t.transform(X) for _, t in self.transformer_list]\n",
    "        Xunion = reduce(lambda X1, X2: pd.merge(X1, X2, left_index=True, right_index=True), Xts)\n",
    "        return Xunion\n",
    "\n",
    "    \n",
    "class ColumnSelector(BaseEstimator, TransformerMixin):\n",
    "    \n",
    "    def __init__(self, key):\n",
    "        self.key = key\n",
    "    \n",
    "    def fit(self, X, y=None):\n",
    "        return self\n",
    "    \n",
    "    def transform(self, X):\n",
    "        return X[[self.key]]\n",
    "\n",
    "\n",
    "class TextCleaner(BaseEstimator, TransformerMixin):\n",
    "    \n",
    "    def __init__(self, key):\n",
    "        self.key = key\n",
    "        \n",
    "    def fit(self, X, y=None):\n",
    "        return self\n",
    "    \n",
    "    def transform(self, X):\n",
    "        print('Cleaning text')\n",
    "        X[self.key] = X[self.key].progress_apply(self._clean_text)\n",
    "        return X[self.key]\n",
    "    \n",
    "    def _clean_text(self, text):\n",
    "        '''\n",
    "        очистка текста    \n",
    "        на выходе очищеный текст\n",
    "        '''\n",
    "\n",
    "        if not isinstance(text, str):\n",
    "            text = str(text)\n",
    "\n",
    "        text = text.lower()\n",
    "        text = text.strip('\\n').strip('\\r').strip('\\t')\n",
    "        text = re.sub('-\\s\\r\\n\\|-\\s\\r\\n|\\r\\n', '', text)\n",
    "\n",
    "        text = re.sub('[^\\w\\s]|[\\d_]', '', text) # <=> re.sub(\"[0-9]|[-—.,:;_%©«»?*!@#№$^•·&()]|[+=]|[[]|[]]|[/]|\", '', text)\n",
    "        text = re.sub(r\"\\r\\n\\t|\\n|\\\\s|\\r\\t|\\\\n\", ' ', text)  # |(?<=[а-я])n+(?=[а-я]) - меняет 'n+' на ' ' внутри русс слов\n",
    "        text = re.sub(r'[\\xad]|[\\s]+', ' ', text.strip())\n",
    "        return text\n",
    "    \n",
    "    \n",
    "class Lemmatizator(BaseEstimator, TransformerMixin, pymorphy2.MorphAnalyzer):\n",
    "        \n",
    "    def fit(self, X, y=None):\n",
    "        return self\n",
    "    \n",
    "    def transform(self, X):\n",
    "        print('Lemmatization')\n",
    "        X = X.progress_apply(self._lemmatization_lrucache)\n",
    "        return X\n",
    "    \n",
    "    @lru_cache(maxsize=None)\n",
    "    def __lru_morph(self, word):\n",
    "        return self.parse(word)[0].normal_form\n",
    "\n",
    "    def _lemmatization_lrucache(self, text):\n",
    "        '''\n",
    "        лемматизация\n",
    "            [0] если зашел тип не `str` делаем его `str`\n",
    "            [1] токенизация предложения через razdel\n",
    "            [2] проверка есть ли в начале слова '-' \n",
    "            [3] проверка токена из одного символа\n",
    "            [4] проверка есть ли данное слово в кэше\n",
    "            [5] лемматизация слова\n",
    "            [6] проверка на стоп-слова\n",
    "\n",
    "        на выходе лист отлемматизированых токенов   \n",
    "        '''\n",
    "        \n",
    "        stopword_ru = stopwords_(MANUAL_STOPWORDS)\n",
    "\n",
    "        if not isinstance(text, str):\n",
    "            text = str(text)\n",
    "\n",
    "        # [1] + [3]\n",
    "        tokens = tokenize(text)\n",
    "        words = [i.text for i in tokens if len(i.text) > 1]\n",
    "\n",
    "        words_lem = []\n",
    "\n",
    "        for w in words:\n",
    "            if w[0] == '-': # [2]\n",
    "                w = w[1:]\n",
    "            \n",
    "            words_lem.append(self.__lru_morph(w))  # [4] - за счет декоратора, [5]\n",
    "        \n",
    "        words_lem_without_stopwords = [i for i in words_lem if i not in stopword_ru] # [6]\n",
    "        \n",
    "        return words_lem_without_stopwords\n",
    "\n",
    "    \n",
    "class MakeCorpusAndDict(BaseEstimator, TransformerMixin):\n",
    "    \n",
    "    def __init__(self):\n",
    "        self.common_dictionary = None\n",
    "        self.common_corpus = None\n",
    "    \n",
    "    def fit(self, X, y=None):\n",
    "        # Сформируем список наших текстов, разбив еще и на пробелы\n",
    "        texts = [t for t in X.values]\n",
    "        # Формируеи corpus(список списков, содержащих кортежи с индексами слов из словаря self.common_dictionary\n",
    "        #  и колличеством этих слов. Сами списки - это переданные статьи)\n",
    "        print('Creating dictionary')\n",
    "        self.common_dictionary = Dictionary(tqdm(texts))\n",
    "        # Creating corpus generator\n",
    "        self.common_corpus = [self.common_dictionary.doc2bow(text) for text in texts]\n",
    "        return self        \n",
    "        \n",
    "    def transform(self, X):\n",
    "        return self, X\n",
    "    \n",
    "\n",
    "class CommonLdaModel(BaseEstimator, TransformerMixin):\n",
    "    \n",
    "    def __init__(self, num_topics=25, lda=None, common_dictionary=None):\n",
    "        self.num_topics = num_topics\n",
    "        self.lda = lda\n",
    "        self.common_dictionary = common_dictionary\n",
    "    \n",
    "    def fit(self, X, y=None):\n",
    "        X, df = X\n",
    "        if not self.lda:\n",
    "            print('Learning LDA model')\n",
    "            self.lda = LdaModel(tqdm(X.common_corpus), id2word=X.common_dictionary, num_topics=self.num_topics)\n",
    "        if not self.common_dictionary:\n",
    "            self.common_dictionary = X.common_dictionary\n",
    "        return self\n",
    "        \n",
    "    def transform(self, X):\n",
    "        return self.lda, self.common_dictionary, X[1], self.num_topics\n",
    "    \n",
    "\n",
    "class VectorizingArticles(BaseEstimator, TransformerMixin):\n",
    "    \n",
    "    def fit(self, X, y=None):\n",
    "        return self\n",
    "    \n",
    "    def transform(self, X):\n",
    "        lda, common_dictionary, df, n = X\n",
    "        args = (lda, common_dictionary, n)\n",
    "        print('Vectorization')\n",
    "        vectorized_arcles = df.to_frame().progress_apply(self._get_lda_vector, axis=1, result_type='expand', args=args)\n",
    "        \n",
    "        return vectorized_arcles\n",
    "    \n",
    "    def _get_lda_vector(self, text, lda, common_dictionary, size=25):\n",
    "        \"\"\"\n",
    "        Векторизация списка лемматизированных и токенизированных слов из статьи\n",
    "\n",
    "        text: list\n",
    "        return pandas df with articles vector\n",
    "        \"\"\"\n",
    "        unseen_doc = common_dictionary.doc2bow(text.values[0])\n",
    "        lda_tuple = lda[unseen_doc]\n",
    "\n",
    "        output_vector = np.zeros(size)\n",
    "\n",
    "        for k, v in lda_tuple:\n",
    "            output_vector[k] = v\n",
    "\n",
    "        return output_vector\n"
   ]
  },
  {
   "cell_type": "markdown",
   "metadata": {},
   "source": [
    "### Создание пайплайна для получения векторизированного представления статей"
   ]
  },
  {
   "cell_type": "code",
   "execution_count": 13,
   "metadata": {},
   "outputs": [],
   "source": [
    "# # lda model and common dictionary\n",
    "# temp_lda = datapath(\"model_1.lda\")\n",
    "# temp_dict = \"model_1_dict.pkl\"\n",
    "\n",
    "# lda = LdaModel.load(temp_lda)\n",
    "# common_dictionary = pickle_load(temp_dict)"
   ]
  },
  {
   "cell_type": "code",
   "execution_count": 14,
   "metadata": {},
   "outputs": [],
   "source": [
    "prepare_text = Pipeline([('text_cleaner', TextCleaner(key='title')),\n",
    "                         ('lemmatizator', Lemmatizator())])\n",
    "                         \n",
    "lda_model = Pipeline([('prepare_text', prepare_text),\n",
    "                      ('corp_dict', MakeCorpusAndDict()),\n",
    "                      ('lda_model', CommonLdaModel(num_topics=25))])\n",
    "\n",
    "vectorized = Pipeline([('lda', lda_model),\n",
    "                       ('vectorizing', VectorizingArticles())])\n",
    "\n",
    "vectorized_articles = FeatureUnion([('articles_id', ColumnSelector(key='doc_id')),\n",
    "                                    ('vectorized', vectorized)])"
   ]
  },
  {
   "cell_type": "code",
   "execution_count": 15,
   "metadata": {
    "scrolled": false
   },
   "outputs": [
    {
     "name": "stdout",
     "output_type": "stream",
     "text": [
      "Cleaning text\n"
     ]
    },
    {
     "name": "stderr",
     "output_type": "stream",
     "text": [
      "C:\\ProgramData\\Anaconda3\\lib\\site-packages\\sklearn\\base.py:209: FutureWarning: From version 0.24, get_params will raise an AttributeError if a parameter cannot be retrieved as an instance attribute. Previously it would return None.\n",
      "  warnings.warn('From version 0.24, get_params will raise an '\n"
     ]
    },
    {
     "data": {
      "application/vnd.jupyter.widget-view+json": {
       "model_id": "9dafd46d8aa240718c40491ec260b2a1",
       "version_major": 2,
       "version_minor": 0
      },
      "text/plain": [
       "HBox(children=(FloatProgress(value=0.0, max=27000.0), HTML(value='')))"
      ]
     },
     "metadata": {},
     "output_type": "display_data"
    },
    {
     "name": "stdout",
     "output_type": "stream",
     "text": [
      "\n",
      "Lemmatization\n"
     ]
    },
    {
     "data": {
      "application/vnd.jupyter.widget-view+json": {
       "model_id": "87290ea400aa450f8a30f3a3fc83300c",
       "version_major": 2,
       "version_minor": 0
      },
      "text/plain": [
       "HBox(children=(FloatProgress(value=0.0, max=27000.0), HTML(value='')))"
      ]
     },
     "metadata": {},
     "output_type": "display_data"
    },
    {
     "name": "stdout",
     "output_type": "stream",
     "text": [
      "\n",
      "Creating dictionary\n"
     ]
    },
    {
     "data": {
      "application/vnd.jupyter.widget-view+json": {
       "model_id": "b0b08eff2d814ee581a8de059519beb7",
       "version_major": 2,
       "version_minor": 0
      },
      "text/plain": [
       "HBox(children=(FloatProgress(value=0.0, max=27000.0), HTML(value='')))"
      ]
     },
     "metadata": {},
     "output_type": "display_data"
    },
    {
     "name": "stdout",
     "output_type": "stream",
     "text": [
      "\n",
      "Learning LDA model\n"
     ]
    },
    {
     "data": {
      "application/vnd.jupyter.widget-view+json": {
       "model_id": "b453d0aff6c94b409c63a278ddf0449c",
       "version_major": 2,
       "version_minor": 0
      },
      "text/plain": [
       "HBox(children=(FloatProgress(value=0.0, max=27000.0), HTML(value='')))"
      ]
     },
     "metadata": {},
     "output_type": "display_data"
    },
    {
     "name": "stdout",
     "output_type": "stream",
     "text": [
      "\n",
      "Vectorization\n"
     ]
    },
    {
     "data": {
      "application/vnd.jupyter.widget-view+json": {
       "model_id": "cfe3e72f0b504dacb71647a0d715572c",
       "version_major": 2,
       "version_minor": 0
      },
      "text/plain": [
       "HBox(children=(FloatProgress(value=0.0, max=27000.0), HTML(value='')))"
      ]
     },
     "metadata": {},
     "output_type": "display_data"
    },
    {
     "name": "stdout",
     "output_type": "stream",
     "text": [
      "\n",
      "Wall time: 4min 36s\n"
     ]
    }
   ],
   "source": [
    "%%time\n",
    "num_topics = 25\n",
    "vectorizing_col = 'title'\n",
    "topics = 'doc_id'\n",
    "\n",
    "prepare_text.set_params(text_cleaner__key=vectorizing_col)\n",
    "lda_model.set_params(lda_model__num_topics=num_topics)\n",
    "# lda_model.set_params(lda_model__lda=lda)\n",
    "# lda_model.set_params(lda_model__common_dictionary=common_dictionary)\n",
    "vectorized_articles.set_params(articles_id__key=topics)\n",
    "news_ = news.copy()\n",
    "\n",
    "res = vectorized_articles.fit_transform(news_)"
   ]
  },
  {
   "cell_type": "code",
   "execution_count": 16,
   "metadata": {},
   "outputs": [
    {
     "data": {
      "text/html": [
       "<div>\n",
       "<style scoped>\n",
       "    .dataframe tbody tr th:only-of-type {\n",
       "        vertical-align: middle;\n",
       "    }\n",
       "\n",
       "    .dataframe tbody tr th {\n",
       "        vertical-align: top;\n",
       "    }\n",
       "\n",
       "    .dataframe thead th {\n",
       "        text-align: right;\n",
       "    }\n",
       "</style>\n",
       "<table border=\"1\" class=\"dataframe\">\n",
       "  <thead>\n",
       "    <tr style=\"text-align: right;\">\n",
       "      <th></th>\n",
       "      <th>doc_id</th>\n",
       "      <th>topic_0</th>\n",
       "      <th>topic_1</th>\n",
       "      <th>topic_2</th>\n",
       "      <th>topic_3</th>\n",
       "      <th>topic_4</th>\n",
       "      <th>topic_5</th>\n",
       "      <th>topic_6</th>\n",
       "      <th>topic_7</th>\n",
       "      <th>topic_8</th>\n",
       "      <th>...</th>\n",
       "      <th>topic_15</th>\n",
       "      <th>topic_16</th>\n",
       "      <th>topic_17</th>\n",
       "      <th>topic_18</th>\n",
       "      <th>topic_19</th>\n",
       "      <th>topic_20</th>\n",
       "      <th>topic_21</th>\n",
       "      <th>topic_22</th>\n",
       "      <th>topic_23</th>\n",
       "      <th>topic_24</th>\n",
       "    </tr>\n",
       "  </thead>\n",
       "  <tbody>\n",
       "    <tr>\n",
       "      <th>0</th>\n",
       "      <td>6</td>\n",
       "      <td>0.019101</td>\n",
       "      <td>0.0</td>\n",
       "      <td>0.000000</td>\n",
       "      <td>0.000000</td>\n",
       "      <td>0.531839</td>\n",
       "      <td>0.0</td>\n",
       "      <td>0.0</td>\n",
       "      <td>0.0</td>\n",
       "      <td>0.117019</td>\n",
       "      <td>...</td>\n",
       "      <td>0.046331</td>\n",
       "      <td>0.231938</td>\n",
       "      <td>0.000000</td>\n",
       "      <td>0.046393</td>\n",
       "      <td>0.00000</td>\n",
       "      <td>0.000000</td>\n",
       "      <td>0.0</td>\n",
       "      <td>0.0</td>\n",
       "      <td>0.0</td>\n",
       "      <td>0.0</td>\n",
       "    </tr>\n",
       "    <tr>\n",
       "      <th>1</th>\n",
       "      <td>4896</td>\n",
       "      <td>0.000000</td>\n",
       "      <td>0.0</td>\n",
       "      <td>0.000000</td>\n",
       "      <td>0.000000</td>\n",
       "      <td>0.000000</td>\n",
       "      <td>0.0</td>\n",
       "      <td>0.0</td>\n",
       "      <td>0.0</td>\n",
       "      <td>0.621264</td>\n",
       "      <td>...</td>\n",
       "      <td>0.000000</td>\n",
       "      <td>0.000000</td>\n",
       "      <td>0.000000</td>\n",
       "      <td>0.000000</td>\n",
       "      <td>0.00000</td>\n",
       "      <td>0.072249</td>\n",
       "      <td>0.0</td>\n",
       "      <td>0.0</td>\n",
       "      <td>0.0</td>\n",
       "      <td>0.0</td>\n",
       "    </tr>\n",
       "    <tr>\n",
       "      <th>2</th>\n",
       "      <td>4897</td>\n",
       "      <td>0.536026</td>\n",
       "      <td>0.0</td>\n",
       "      <td>0.000000</td>\n",
       "      <td>0.089064</td>\n",
       "      <td>0.000000</td>\n",
       "      <td>0.0</td>\n",
       "      <td>0.0</td>\n",
       "      <td>0.0</td>\n",
       "      <td>0.000000</td>\n",
       "      <td>...</td>\n",
       "      <td>0.000000</td>\n",
       "      <td>0.000000</td>\n",
       "      <td>0.094982</td>\n",
       "      <td>0.000000</td>\n",
       "      <td>0.03659</td>\n",
       "      <td>0.000000</td>\n",
       "      <td>0.0</td>\n",
       "      <td>0.0</td>\n",
       "      <td>0.0</td>\n",
       "      <td>0.0</td>\n",
       "    </tr>\n",
       "    <tr>\n",
       "      <th>3</th>\n",
       "      <td>4898</td>\n",
       "      <td>0.525966</td>\n",
       "      <td>0.0</td>\n",
       "      <td>0.000000</td>\n",
       "      <td>0.000000</td>\n",
       "      <td>0.000000</td>\n",
       "      <td>0.0</td>\n",
       "      <td>0.0</td>\n",
       "      <td>0.0</td>\n",
       "      <td>0.000000</td>\n",
       "      <td>...</td>\n",
       "      <td>0.000000</td>\n",
       "      <td>0.073718</td>\n",
       "      <td>0.000000</td>\n",
       "      <td>0.000000</td>\n",
       "      <td>0.00000</td>\n",
       "      <td>0.000000</td>\n",
       "      <td>0.0</td>\n",
       "      <td>0.0</td>\n",
       "      <td>0.0</td>\n",
       "      <td>0.0</td>\n",
       "    </tr>\n",
       "    <tr>\n",
       "      <th>4</th>\n",
       "      <td>4899</td>\n",
       "      <td>0.000000</td>\n",
       "      <td>0.0</td>\n",
       "      <td>0.400866</td>\n",
       "      <td>0.043918</td>\n",
       "      <td>0.132469</td>\n",
       "      <td>0.0</td>\n",
       "      <td>0.0</td>\n",
       "      <td>0.0</td>\n",
       "      <td>0.000000</td>\n",
       "      <td>...</td>\n",
       "      <td>0.000000</td>\n",
       "      <td>0.300221</td>\n",
       "      <td>0.000000</td>\n",
       "      <td>0.000000</td>\n",
       "      <td>0.00000</td>\n",
       "      <td>0.000000</td>\n",
       "      <td>0.0</td>\n",
       "      <td>0.0</td>\n",
       "      <td>0.0</td>\n",
       "      <td>0.0</td>\n",
       "    </tr>\n",
       "  </tbody>\n",
       "</table>\n",
       "<p>5 rows × 26 columns</p>\n",
       "</div>"
      ],
      "text/plain": [
       "   doc_id   topic_0  topic_1   topic_2   topic_3   topic_4  topic_5  topic_6  \\\n",
       "0       6  0.019101      0.0  0.000000  0.000000  0.531839      0.0      0.0   \n",
       "1    4896  0.000000      0.0  0.000000  0.000000  0.000000      0.0      0.0   \n",
       "2    4897  0.536026      0.0  0.000000  0.089064  0.000000      0.0      0.0   \n",
       "3    4898  0.525966      0.0  0.000000  0.000000  0.000000      0.0      0.0   \n",
       "4    4899  0.000000      0.0  0.400866  0.043918  0.132469      0.0      0.0   \n",
       "\n",
       "   topic_7   topic_8  ...  topic_15  topic_16  topic_17  topic_18  topic_19  \\\n",
       "0      0.0  0.117019  ...  0.046331  0.231938  0.000000  0.046393   0.00000   \n",
       "1      0.0  0.621264  ...  0.000000  0.000000  0.000000  0.000000   0.00000   \n",
       "2      0.0  0.000000  ...  0.000000  0.000000  0.094982  0.000000   0.03659   \n",
       "3      0.0  0.000000  ...  0.000000  0.073718  0.000000  0.000000   0.00000   \n",
       "4      0.0  0.000000  ...  0.000000  0.300221  0.000000  0.000000   0.00000   \n",
       "\n",
       "   topic_20  topic_21  topic_22  topic_23  topic_24  \n",
       "0  0.000000       0.0       0.0       0.0       0.0  \n",
       "1  0.072249       0.0       0.0       0.0       0.0  \n",
       "2  0.000000       0.0       0.0       0.0       0.0  \n",
       "3  0.000000       0.0       0.0       0.0       0.0  \n",
       "4  0.000000       0.0       0.0       0.0       0.0  \n",
       "\n",
       "[5 rows x 26 columns]"
      ]
     },
     "execution_count": 16,
     "metadata": {},
     "output_type": "execute_result"
    }
   ],
   "source": [
    "# res = vectorized_articles.transform(actions)\n",
    "topic_wights = pd.DataFrame(res, columns=['doc_id'] + [f'topic_{i}' for i in range(res.shape[1] - 1)])\n",
    "topic_wights['doc_id'] = topic_wights['doc_id'].astype('int')\n",
    "topic_wights.head()"
   ]
  },
  {
   "cell_type": "code",
   "execution_count": 17,
   "metadata": {},
   "outputs": [],
   "source": [
    "if not any(['common_dictionary' in globals(), 'lda' in globals()]):\n",
    "    lda = lda_model['lda_model'].lda\n",
    "    common_dictionary = lda_model['lda_model'].common_dictionary"
   ]
  },
  {
   "cell_type": "markdown",
   "metadata": {},
   "source": [
    "---"
   ]
  },
  {
   "cell_type": "code",
   "execution_count": 18,
   "metadata": {},
   "outputs": [],
   "source": [
    "# # Save model to disk.\n",
    "# temp_lda = datapath(\"model_1.lda\")\n",
    "# temp_dict = \"model_1_dict.pkl\"\n",
    "# lda_model['lda_model'].lda.save(temp_lda)\n",
    "# pickle_save(lda_model['corp_dict'].common_dictionary, temp_dict)\n",
    "\n",
    "# Load a potentially pretrained model from disk.\n",
    "# lda = LdaModel.load(temp_lda)\n",
    "# common_dictionary = pickle_load(temp_dict)"
   ]
  },
  {
   "cell_type": "markdown",
   "metadata": {},
   "source": [
    "### Определение весов статей при помощи TfidfVectorizer"
   ]
  },
  {
   "cell_type": "code",
   "execution_count": 19,
   "metadata": {
    "scrolled": true
   },
   "outputs": [],
   "source": [
    "# Create idf for articles if there is not file\n",
    "\n",
    "idf_file = r'articles_idf.csv'\n",
    "\n",
    "if path.exists(idf_file):\n",
    "    articles_idf = pd.read_csv(r'articles_idf.csv', encoding='utf-8')\n",
    "else:\n",
    "    vectorizer = TfidfVectorizer()\n",
    "\n",
    "    u_articles = users.articles.str.replace(r'\\[|\\]|,', '')  # users.articles.str.findall(r'\\d+').str.join(' ').values\n",
    "    idf = vectorizer.fit(u_articles)\n",
    "\n",
    "    articles_idf = pd.DataFrame(zip(idf.get_feature_names(), idf.idf_), columns=['articles', 'idf'])\n",
    "#     articles_idf.to_csv('articles_idf.csv', encoding='utf-8', index=False)\n"
   ]
  },
  {
   "cell_type": "code",
   "execution_count": 20,
   "metadata": {},
   "outputs": [
    {
     "data": {
      "text/html": [
       "<div>\n",
       "<style scoped>\n",
       "    .dataframe tbody tr th:only-of-type {\n",
       "        vertical-align: middle;\n",
       "    }\n",
       "\n",
       "    .dataframe tbody tr th {\n",
       "        vertical-align: top;\n",
       "    }\n",
       "\n",
       "    .dataframe thead th {\n",
       "        text-align: right;\n",
       "    }\n",
       "</style>\n",
       "<table border=\"1\" class=\"dataframe\">\n",
       "  <thead>\n",
       "    <tr style=\"text-align: right;\">\n",
       "      <th></th>\n",
       "      <th>articles</th>\n",
       "      <th>idf</th>\n",
       "    </tr>\n",
       "  </thead>\n",
       "  <tbody>\n",
       "    <tr>\n",
       "      <th>2848</th>\n",
       "      <td>293672</td>\n",
       "      <td>8.601027</td>\n",
       "    </tr>\n",
       "  </tbody>\n",
       "</table>\n",
       "</div>"
      ],
      "text/plain": [
       "      articles       idf\n",
       "2848    293672  8.601027"
      ]
     },
     "execution_count": 20,
     "metadata": {},
     "output_type": "execute_result"
    }
   ],
   "source": [
    "articles_idf[articles_idf.articles == 293672]"
   ]
  },
  {
   "cell_type": "markdown",
   "metadata": {},
   "source": [
    "Обучили модель. Теперь 2 вопроса:\n",
    "\n",
    "1. как выглядят наши темы\n",
    "2. как получить для документа вектор значений (вероятности принадлежности каждой теме)"
   ]
  },
  {
   "cell_type": "code",
   "execution_count": 21,
   "metadata": {
    "scrolled": false
   },
   "outputs": [
    {
     "name": "stdout",
     "output_type": "stream",
     "text": [
      "topic_0: год завод способность свет первый блок негативный особенность весь журнал\n",
      "topic_1: продукция специальный сообщество памятник городской сотрудничать надёжный компания спрос стол\n",
      "topic_2: год военный который город пациент территория армия помощь данные человек\n",
      "topic_3: который компания экономика свой год газета первый связанный всё эксперимент\n",
      "topic_4: исследование год человек погибнуть который журнал результат россия управление компания\n",
      "topic_5: космос тело разместить разбираться сбить компьютер аналог образовать развивающийся актуальный\n",
      "topic_6: ребёнок год человек который статья рубль цена тыс семья мочь\n",
      "topic_7: гражданин операция мужчина женщина производитель фронт народный статья захватить одежда\n",
      "topic_8: год который мочь научный рост сша россия время также рынок\n",
      "topic_9: фонд год сотрудник агентство обнаружить товар китай полиция россия век\n",
      "topic_10: резерв принадлежащий трансляция инвестировать тур кит вершина красноярский нежели футбол\n",
      "topic_11: энергия врач больной добавлять девочка сон девушка выяснить знаменитый женщина\n",
      "topic_12: который год мочь весь всё новый свой время система говорить\n",
      "topic_13: украина рак белоруссия поток народ специальный украинский россия медицина россиянин\n",
      "topic_14: газ млрд строительство проект восток малый земля экономика огонь объект\n",
      "topic_15: температура день погода градус ночью билет климат солнце праздник вода\n",
      "topic_16: россия президент который страна российский глава сша власть правительство заявить\n",
      "topic_17: рейтинг атмосферный место кость рекорд победитель зима хороший занять стать\n",
      "topic_18: фестиваль мероприятие пройти тепло состояться сайт организатор гость эстония разделение\n",
      "topic_19: год млн банк рубль тыс составить фильм январь сообщать сумма\n",
      "topic_20: суд район пострадать экипаж произойти задержать иск авария который представитель\n",
      "topic_21: дело санкция год отношение который документ пенсия свой мочь украинский\n",
      "topic_22: остров пресссекретарить песок океан определение статья параметр явиться функционировать сосед\n",
      "topic_23: журнал ремонт су арабский параметр колесо капитальный канада калининградский педагог\n",
      "topic_24: северный японский южный япония корея экипаж золото кг ким японец\n"
     ]
    }
   ],
   "source": [
    "x = lda.show_topics(num_topics=num_topics, num_words=10, formatted=False)\n",
    "topics_words = [(tp[0], [wd[0] for wd in tp[1]]) for tp in x]\n",
    "\n",
    "#Below Code Prints Only Words \n",
    "for topic,words in topics_words:\n",
    "    print(\"topic_{}: \".format(topic) + \" \".join(words))"
   ]
  },
  {
   "cell_type": "markdown",
   "metadata": {},
   "source": [
    "### Следующий шаг - векторные представления пользователей"
   ]
  },
  {
   "cell_type": "code",
   "execution_count": 22,
   "metadata": {},
   "outputs": [],
   "source": [
    "class UsersTopicVectorizer(TransformerMixin):\n",
    "    \n",
    "    def __init__(self, topic_vectors, article_idf=None):\n",
    "        self.topic_vectors = topic_vectors if article_idf is None else \\\n",
    "                             self._correct_vectors_by_idf(topic_vectors, article_idf)\n",
    "        self.article_idf = article_idf\n",
    "        \n",
    "    def fit(self, X, y=None):\n",
    "        return self\n",
    "        \n",
    "    def transform(self, X):\n",
    "        return self._add_vectors(X)\n",
    "    \n",
    "    def _add_vectors(self, X):\n",
    "        X.articles = X.articles.str.findall(r'\\d+')\n",
    "        X = X.explode(column='articles')\n",
    "        X.articles = X.articles.astype('int')\n",
    "        X = X.merge(self.topic_vectors, left_on='articles', right_on='doc_id', how='left')\n",
    "        X.drop(columns=['articles', 'doc_id'], inplace=True)\n",
    "        return X\n",
    "\n",
    "    def _correct_vectors_by_idf(self, vectors, idf):\n",
    "        corrected_vectors = vectors.merge(idf, left_on='doc_id', right_on='articles', how='left').dropna()\n",
    "        topic_cols = [i for i in  corrected_vectors.columns if i not in ['articles', 'idf', 'doc_id']]\n",
    "        for col in topic_cols:\n",
    "            corrected_vectors[col] = corrected_vectors[col] * corrected_vectors['idf']\n",
    "        return corrected_vectors.drop(columns=['articles', 'idf'])\n",
    "\n",
    "    \n",
    "class AggregateFrame(TransformerMixin):\n",
    "    \n",
    "    def __init__(self, agg_func):\n",
    "        self.agg_func = agg_func\n",
    "        \n",
    "    def fit(self, X, y=None):\n",
    "        return self\n",
    "    \n",
    "    def transform(self, X):\n",
    "        return X.groupby(['uid']).agg(self.agg_func)"
   ]
  },
  {
   "cell_type": "code",
   "execution_count": 23,
   "metadata": {},
   "outputs": [],
   "source": [
    "def get_df_with_agg(users_df, topic_wights, idf, agg_func):\n",
    "    test = Pipeline([('vectorizer', UsersTopicVectorizer(topic_wights, idf)),\n",
    "                     ('agregator', AggregateFrame(agg_func=agg_func))])\n",
    "    return test.fit_transform(users_df.copy())\n",
    "\n",
    "\n",
    "def get_metrics(y_test, preds):\n",
    "    \"\"\"\n",
    "    get best params for f-score using probabilities\n",
    "    \"\"\"\n",
    "    precision, recall, thresholds = precision_recall_curve(y_test, preds)\n",
    "    fscore = (2 * precision * recall) / (precision + recall)\n",
    "    # locate the index of the largest f score\n",
    "    ix = np.argmax(fscore)\n",
    "    return {'thershhold': thresholds[ix], \n",
    "            'fscore': fscore[ix], \n",
    "            'precision': precision[ix], \n",
    "            'recall': recall[ix],\n",
    "            'roc_auc': roc_auc_score(y_test, preds)}\n"
   ]
  },
  {
   "cell_type": "code",
   "execution_count": 24,
   "metadata": {},
   "outputs": [],
   "source": [
    "users_tst = users.copy()\n",
    "users_tst = users_tst.merge(target, on='uid')"
   ]
  },
  {
   "cell_type": "code",
   "execution_count": 25,
   "metadata": {},
   "outputs": [],
   "source": [
    "agg_topic_params = [('mean', None, np.mean),\n",
    "                    ('median', None, np.median),\n",
    "                    ('max', None, np.max),\n",
    "                    ('mean_idf', articles_idf, np.mean)]"
   ]
  },
  {
   "cell_type": "code",
   "execution_count": 26,
   "metadata": {},
   "outputs": [],
   "source": [
    "# accumulate different aggregations in dict\n",
    "logreg = LogisticRegression()\n",
    "df = {}\n",
    "metrics = []\n",
    "for params in agg_topic_params:\n",
    "    # get user vector with given params\n",
    "    df_ = get_df_with_agg(users_tst, topic_wights, params[1], params[2])\n",
    "    # spli df by train/test\n",
    "    X_train, X_test, y_train, y_test = train_test_split(df_.drop(columns='churn'), \n",
    "                                                        df_['churn'], random_state=0)\n",
    "    # fitting logreg\n",
    "    logreg.fit(X_train, y_train)\n",
    "    # get predicts (probability)\n",
    "    preds = logreg.predict_proba(X_test)[:, 1]    \n",
    "    \n",
    "    metrics.append(get_metrics(y_test, preds))"
   ]
  },
  {
   "cell_type": "code",
   "execution_count": 27,
   "metadata": {},
   "outputs": [
    {
     "data": {
      "text/html": [
       "<style  type=\"text/css\" >\n",
       "#T_a9429b7a_2b32_11eb_8190_b46921c1b3cfrow0_col0,#T_a9429b7a_2b32_11eb_8190_b46921c1b3cfrow0_col1,#T_a9429b7a_2b32_11eb_8190_b46921c1b3cfrow0_col3,#T_a9429b7a_2b32_11eb_8190_b46921c1b3cfrow0_col4,#T_a9429b7a_2b32_11eb_8190_b46921c1b3cfrow1_col2{\n",
       "            background-color:  yellow;\n",
       "        }</style><table id=\"T_a9429b7a_2b32_11eb_8190_b46921c1b3cf\" ><thead>    <tr>        <th class=\"blank level0\" ></th>        <th class=\"col_heading level0 col0\" >thershhold</th>        <th class=\"col_heading level0 col1\" >fscore</th>        <th class=\"col_heading level0 col2\" >precision</th>        <th class=\"col_heading level0 col3\" >recall</th>        <th class=\"col_heading level0 col4\" >roc_auc</th>    </tr></thead><tbody>\n",
       "                <tr>\n",
       "                        <th id=\"T_a9429b7a_2b32_11eb_8190_b46921c1b3cflevel0_row0\" class=\"row_heading level0 row0\" >mean_idf</th>\n",
       "                        <td id=\"T_a9429b7a_2b32_11eb_8190_b46921c1b3cfrow0_col0\" class=\"data row0 col0\" >0.344161</td>\n",
       "                        <td id=\"T_a9429b7a_2b32_11eb_8190_b46921c1b3cfrow0_col1\" class=\"data row0 col1\" >0.856075</td>\n",
       "                        <td id=\"T_a9429b7a_2b32_11eb_8190_b46921c1b3cfrow0_col2\" class=\"data row0 col2\" >0.814947</td>\n",
       "                        <td id=\"T_a9429b7a_2b32_11eb_8190_b46921c1b3cfrow0_col3\" class=\"data row0 col3\" >0.901575</td>\n",
       "                        <td id=\"T_a9429b7a_2b32_11eb_8190_b46921c1b3cfrow0_col4\" class=\"data row0 col4\" >0.985670</td>\n",
       "            </tr>\n",
       "            <tr>\n",
       "                        <th id=\"T_a9429b7a_2b32_11eb_8190_b46921c1b3cflevel0_row1\" class=\"row_heading level0 row1\" >median</th>\n",
       "                        <td id=\"T_a9429b7a_2b32_11eb_8190_b46921c1b3cfrow1_col0\" class=\"data row1 col0\" >0.308644</td>\n",
       "                        <td id=\"T_a9429b7a_2b32_11eb_8190_b46921c1b3cfrow1_col1\" class=\"data row1 col1\" >0.833992</td>\n",
       "                        <td id=\"T_a9429b7a_2b32_11eb_8190_b46921c1b3cfrow1_col2\" class=\"data row1 col2\" >0.837302</td>\n",
       "                        <td id=\"T_a9429b7a_2b32_11eb_8190_b46921c1b3cfrow1_col3\" class=\"data row1 col3\" >0.830709</td>\n",
       "                        <td id=\"T_a9429b7a_2b32_11eb_8190_b46921c1b3cfrow1_col4\" class=\"data row1 col4\" >0.981228</td>\n",
       "            </tr>\n",
       "            <tr>\n",
       "                        <th id=\"T_a9429b7a_2b32_11eb_8190_b46921c1b3cflevel0_row2\" class=\"row_heading level0 row2\" >max</th>\n",
       "                        <td id=\"T_a9429b7a_2b32_11eb_8190_b46921c1b3cfrow2_col0\" class=\"data row2 col0\" >0.342956</td>\n",
       "                        <td id=\"T_a9429b7a_2b32_11eb_8190_b46921c1b3cfrow2_col1\" class=\"data row2 col1\" >0.746939</td>\n",
       "                        <td id=\"T_a9429b7a_2b32_11eb_8190_b46921c1b3cfrow2_col2\" class=\"data row2 col2\" >0.775424</td>\n",
       "                        <td id=\"T_a9429b7a_2b32_11eb_8190_b46921c1b3cfrow2_col3\" class=\"data row2 col3\" >0.720472</td>\n",
       "                        <td id=\"T_a9429b7a_2b32_11eb_8190_b46921c1b3cfrow2_col4\" class=\"data row2 col4\" >0.956848</td>\n",
       "            </tr>\n",
       "            <tr>\n",
       "                        <th id=\"T_a9429b7a_2b32_11eb_8190_b46921c1b3cflevel0_row3\" class=\"row_heading level0 row3\" >mean</th>\n",
       "                        <td id=\"T_a9429b7a_2b32_11eb_8190_b46921c1b3cfrow3_col0\" class=\"data row3 col0\" >0.233943</td>\n",
       "                        <td id=\"T_a9429b7a_2b32_11eb_8190_b46921c1b3cfrow3_col1\" class=\"data row3 col1\" >0.693141</td>\n",
       "                        <td id=\"T_a9429b7a_2b32_11eb_8190_b46921c1b3cfrow3_col2\" class=\"data row3 col2\" >0.640000</td>\n",
       "                        <td id=\"T_a9429b7a_2b32_11eb_8190_b46921c1b3cfrow3_col3\" class=\"data row3 col3\" >0.755906</td>\n",
       "                        <td id=\"T_a9429b7a_2b32_11eb_8190_b46921c1b3cfrow3_col4\" class=\"data row3 col4\" >0.941240</td>\n",
       "            </tr>\n",
       "    </tbody></table>"
      ],
      "text/plain": [
       "<pandas.io.formats.style.Styler at 0x1c22d4f9790>"
      ]
     },
     "execution_count": 27,
     "metadata": {},
     "output_type": "execute_result"
    }
   ],
   "source": [
    "pd.DataFrame(metrics, index=[i[0] for i in agg_topic_params]\n",
    "            ).sort_values(by='roc_auc', ascending=False\n",
    "                         ).style.highlight_max()"
   ]
  },
  {
   "cell_type": "code",
   "execution_count": null,
   "metadata": {},
   "outputs": [],
   "source": []
  },
  {
   "cell_type": "code",
   "execution_count": null,
   "metadata": {},
   "outputs": [],
   "source": []
  },
  {
   "cell_type": "code",
   "execution_count": null,
   "metadata": {},
   "outputs": [],
   "source": []
  },
  {
   "cell_type": "code",
   "execution_count": null,
   "metadata": {},
   "outputs": [],
   "source": []
  },
  {
   "cell_type": "code",
   "execution_count": 87,
   "metadata": {},
   "outputs": [],
   "source": [
    "def plot_confusion_matrix(cm, classes,\n",
    "                          normalize=False,\n",
    "                          title='Confusion matrix',\n",
    "                          cmap=plt.cm.Blues):\n",
    "    \"\"\"\n",
    "    This function prints and plots the confusion matrix.\n",
    "    Normalization can be applied by setting `normalize=True`.\n",
    "    \"\"\"\n",
    "    plt.imshow(cm, interpolation='nearest', cmap=cmap)\n",
    "    plt.title(title)\n",
    "    plt.colorbar()\n",
    "    tick_marks = np.arange(len(classes))\n",
    "    plt.xticks(tick_marks, classes, rotation=45)\n",
    "    plt.yticks(tick_marks, classes)\n",
    "\n",
    "    if normalize:\n",
    "        cm = cm.astype('float') / cm.sum(axis=1)[:, np.newaxis]\n",
    "        print(\"Normalized confusion matrix\")\n",
    "    else:\n",
    "        print('Confusion matrix, without normalization')\n",
    "\n",
    "    print(cm)\n",
    "\n",
    "    thresh = cm.max() / 2.\n",
    "    for i, j in itertools.product(range(cm.shape[0]), range(cm.shape[1])):\n",
    "        plt.text(j, i, cm[i, j],\n",
    "                 horizontalalignment=\"center\",\n",
    "                 color=\"white\" if cm[i, j] > thresh else \"black\")\n",
    "\n",
    "    plt.tight_layout()\n",
    "    plt.ylabel('True label')\n",
    "    plt.xlabel('Predicted label')"
   ]
  },
  {
   "cell_type": "code",
   "execution_count": 88,
   "metadata": {},
   "outputs": [
    {
     "name": "stdout",
     "output_type": "stream",
     "text": [
      "Confusion matrix, without normalization\n",
      "[[1597  149]\n",
      " [  67  187]]\n"
     ]
    },
    {
     "data": {
      "image/png": "[encoded data removed]",
      "text/plain": [
       "<Figure size 720x576 with 2 Axes>"
      ]
     },
     "metadata": {
      "needs_background": "light"
     },
     "output_type": "display_data"
    }
   ],
   "source": [
    "#мы уже нашли ранее \"оптимальный\" порог, когда максимизировали f_score\n",
    "font = {'size' : 15}\n",
    "\n",
    "plt.rc('font', **font)\n",
    "\n",
    "cnf_matrix = confusion_matrix(y_test, preds>thresholds[ix])\n",
    "plt.figure(figsize=(10, 8))\n",
    "plot_confusion_matrix(cnf_matrix, classes=['Non-Churn', 'churn'],\n",
    "                      title='Confusion matrix')\n",
    "plt.savefig(\"conf_matrix.png\")\n",
    "plt.show()"
   ]
  },
  {
   "cell_type": "code",
   "execution_count": 89,
   "metadata": {},
   "outputs": [
    {
     "data": {
      "text/plain": [
       "0.9297359092999973"
      ]
     },
     "execution_count": 89,
     "metadata": {},
     "output_type": "execute_result"
    }
   ],
   "source": [
    "roc_auc_score(y_test, preds)"
   ]
  },
  {
   "cell_type": "markdown",
   "metadata": {},
   "source": [
    "В целом мы видим, что получившиеся векторные представления содержат какой-то сигнал и позволяют решать нашу прикладную задачу. "
   ]
  }
 ],
 "metadata": {
  "kernelspec": {
   "display_name": "Python 3",
   "language": "python",
   "name": "python3"
  },
  "language_info": {
   "codemirror_mode": {
    "name": "ipython",
    "version": 3
   },
   "file_extension": ".py",
   "mimetype": "text/x-python",
   "name": "python",
   "nbconvert_exporter": "python",
   "pygments_lexer": "ipython3",
   "version": "3.8.5"
  }
 },
 "nbformat": 4,
 "nbformat_minor": 4
}
